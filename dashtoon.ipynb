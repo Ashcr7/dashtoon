{
 "cells": [
  {
   "cell_type": "markdown",
   "metadata": {
    "editable": false,
    "id": "h0GUJ0VduCut"
   },
   "source": [
    "Importing"
   ]
  },
  {
   "cell_type": "code",
   "execution_count": 1,
   "metadata": {
    "editable": false,
    "id": "gGcPm1Qkt6Q8"
   },
   "outputs": [],
   "source": [
    "from PIL import Image\n",
    "import matplotlib.pyplot as plt\n",
    "import numpy as np\n",
    "\n",
    "import torch\n",
    "import torch.optim as optim\n",
    "from torchvision import transforms, models"
   ]
  },
  {
   "cell_type": "code",
   "execution_count": 2,
   "metadata": {
    "editable": false,
    "id": "LV8h1hZruKYy",
    "outputId": "62614dc6-218b-43dd-f635-367f439e626f"
   },
   "outputs": [
    {
     "name": "stderr",
     "output_type": "stream",
     "text": [
      "D:\\Work\\environment-directory\\newenv\\lib\\site-packages\\torchvision\\models\\_utils.py:208: UserWarning: The parameter 'pretrained' is deprecated since 0.13 and may be removed in the future, please use 'weights' instead.\n",
      "  warnings.warn(\n",
      "D:\\Work\\environment-directory\\newenv\\lib\\site-packages\\torchvision\\models\\_utils.py:223: UserWarning: Arguments other than a weight enum or `None` for 'weights' are deprecated since 0.13 and may be removed in the future. The current behavior is equivalent to passing `weights=VGG19_Weights.IMAGENET1K_V1`. You can also use `weights=VGG19_Weights.DEFAULT` to get the most up-to-date weights.\n",
      "  warnings.warn(msg)\n",
      "Downloading: \"https://download.pytorch.org/models/vgg19-dcbb9e9d.pth\" to C:\\Users\\Ayush/.cache\\torch\\hub\\checkpoints\\vgg19-dcbb9e9d.pth\n",
      "100%|████████████████████████████████████████████████████████████████████████████████| 548M/548M [10:23<00:00, 922kB/s]\n"
     ]
    }
   ],
   "source": [
    "# get the \"features\" portion of VGG16 (we will not need the \"classifier\" portion)\n",
    "vgg = models.vgg19(pretrained=True).features\n",
    "\n",
    "# freeze all VGG parameters since we're on\\ly optimizing the target image\n",
    "for param in vgg.parameters():\n",
    "    param.requires_grad_(False)"
   ]
  },
  {
   "cell_type": "markdown",
   "metadata": {
    "editable": false,
    "id": "cm4v7RxpuiID"
   },
   "source": []
  },
  {
   "cell_type": "code",
   "execution_count": null,
   "metadata": {
    "editable": false,
    "execution": {
     "iopub.execute_input": "2023-11-27T17:43:14.017005Z",
     "iopub.status.busy": "2023-11-27T17:43:14.016639Z",
     "iopub.status.idle": "2023-11-27T17:43:17.439797Z",
     "shell.execute_reply": "2023-11-27T17:43:17.438874Z",
     "shell.execute_reply.started": "2023-11-27T17:43:14.016976Z"
    },
    "id": "J_3_tYNXumI5",
    "outputId": "9a51f388-140b-48c9-ec37-0ad12ad16706"
   },
   "outputs": [],
   "source": [
    "device = torch.device(\"cuda\" if torch.cuda.is_available() else \"cpu\")\n",
    "\n",
    "vgg.to(device)"
   ]
  },
  {
   "cell_type": "code",
   "execution_count": null,
   "metadata": {
    "editable": false,
    "execution": {
     "iopub.execute_input": "2023-11-27T17:43:20.901299Z",
     "iopub.status.busy": "2023-11-27T17:43:20.900946Z",
     "iopub.status.idle": "2023-11-27T17:43:20.908628Z",
     "shell.execute_reply": "2023-11-27T17:43:20.907477Z",
     "shell.execute_reply.started": "2023-11-27T17:43:20.90127Z"
    },
    "id": "BfRxDJ0Yunv-"
   },
   "outputs": [],
   "source": [
    "def load_image(img_path, max_size=400, shape=None):\n",
    "    ''' Load in and transform an image, making sure the image\n",
    "       is <= 400 pixels in the x-y dims.'''\n",
    "\n",
    "    image = Image.open(img_path).convert('RGB')\n",
    "\n",
    "    # large images will slow down processing\n",
    "    if max(image.size) > max_size:\n",
    "        size = max_size\n",
    "    else:\n",
    "        size = max(image.size)\n",
    "\n",
    "    if shape is not None:\n",
    "        size = shape\n",
    "\n",
    "    in_transform = transforms.Compose([\n",
    "                        transforms.Resize(size),\n",
    "                        transforms.ToTensor(),\n",
    "                        transforms.Normalize((0.485, 0.456, 0.406),\n",
    "                                             (0.229, 0.224, 0.225))])\n",
    "\n",
    "    # discard the transparent, alpha channel (that's the :3) and add the batch dimension\n",
    "    image = in_transform(image)[:3,:,:].unsqueeze(0)\n",
    "\n",
    "    return image"
   ]
  },
  {
   "cell_type": "markdown",
   "metadata": {
    "editable": false,
    "id": "ep8U6p1JwYk9"
   },
   "source": [
    "##Data set"
   ]
  },
  {
   "cell_type": "code",
   "execution_count": null,
   "metadata": {
    "editable": false,
    "id": "OK2qr4m6u0s6",
    "outputId": "22314447-36bc-4d58-b057-31cf672cf3e8"
   },
   "outputs": [],
   "source": []
  },
  {
   "cell_type": "markdown",
   "metadata": {
    "editable": false,
    "id": "ov75rrX0w2Y_"
   },
   "source": [
    " helper function for un-normalizing an image and converting it from a Tensor image to a NumPy image for display\n"
   ]
  },
  {
   "cell_type": "code",
   "execution_count": null,
   "metadata": {
    "editable": false,
    "execution": {
     "iopub.execute_input": "2023-11-27T17:43:26.037276Z",
     "iopub.status.busy": "2023-11-27T17:43:26.036583Z",
     "iopub.status.idle": "2023-11-27T17:43:26.042809Z",
     "shell.execute_reply": "2023-11-27T17:43:26.041891Z",
     "shell.execute_reply.started": "2023-11-27T17:43:26.037246Z"
    },
    "id": "pFKEx-ZMw1xq"
   },
   "outputs": [],
   "source": [
    "def im_convert(tensor):\n",
    "    \"\"\" Display a tensor as an image. \"\"\"\n",
    "\n",
    "    image = tensor.to(\"cpu\").clone().detach()\n",
    "    image = image.numpy().squeeze()\n",
    "    image = image.transpose(1,2,0)\n",
    "    image = image * np.array((0.229, 0.224, 0.225)) + np.array((0.485, 0.456, 0.406))\n",
    "    image = image.clip(0, 1)\n",
    "\n",
    "    return image"
   ]
  },
  {
   "cell_type": "code",
   "execution_count": null,
   "metadata": {
    "editable": false,
    "execution": {
     "iopub.execute_input": "2023-11-27T17:44:09.22957Z",
     "iopub.status.busy": "2023-11-27T17:44:09.229212Z",
     "iopub.status.idle": "2023-11-27T17:44:10.124471Z",
     "shell.execute_reply": "2023-11-27T17:44:10.123207Z",
     "shell.execute_reply.started": "2023-11-27T17:44:09.22954Z"
    },
    "id": "4Rknf7j4xB_b"
   },
   "outputs": [],
   "source": [
    "# load in content and style image\n",
    "content = load_image('/kaggle/input/paintings-for-artistic-style-transfer/Edvard Munch - Anxiety.jpg').to(device)\n",
    "# Resize style to match content, makes code easier\n",
    "style = load_image('/kaggle/input/paintings-for-artistic-style-transfer/Camille Pissarro - Boulevard Montmartre.jpg', shape=content.shape[-2:]).to(device)"
   ]
  },
  {
   "cell_type": "markdown",
   "metadata": {
    "editable": false,
    "id": "rt5fBHfxyZd2"
   },
   "source": []
  },
  {
   "cell_type": "code",
   "execution_count": null,
   "metadata": {
    "editable": false,
    "id": "TAH-hG6TyYx2"
   },
   "outputs": [],
   "source": [
    "fig, (ax1, ax2) = plt.subplots(1, 2, figsize=(20, 10))\n",
    "# content and style ims side-by-side\n",
    "ax1.imshow(im_convert(content))\n",
    "ax1.set_title(\"Content Image\",fontsize = 20)\n",
    "ax2.imshow(im_convert(style))\n",
    "ax2.set_title(\"Style Image\", fontsize = 20)\n",
    "plt.show()"
   ]
  },
  {
   "cell_type": "code",
   "execution_count": null,
   "metadata": {
    "editable": false,
    "id": "V0JbmjTxyddT",
    "outputId": "076d0591-d007-43a1-d3d7-ef8ba603b3a2"
   },
   "outputs": [],
   "source": [
    "print(vgg)"
   ]
  },
  {
   "cell_type": "code",
   "execution_count": null,
   "metadata": {
    "editable": false,
    "execution": {
     "iopub.execute_input": "2023-11-27T17:44:27.953603Z",
     "iopub.status.busy": "2023-11-27T17:44:27.952754Z",
     "iopub.status.idle": "2023-11-27T17:44:27.960235Z",
     "shell.execute_reply": "2023-11-27T17:44:27.959212Z",
     "shell.execute_reply.started": "2023-11-27T17:44:27.953568Z"
    },
    "id": "xV9-F88zylKx"
   },
   "outputs": [],
   "source": [
    "def get_features(image, model, layers=None):\n",
    "    \"\"\" Run an image forward through a model and get the features for\n",
    "        a set of layers. Default layers are for VGGNet matching Gatys et al (2016)\n",
    "    \"\"\"\n",
    "\n",
    "    ## TODO: Complete mapping layer names of PyTorch's VGGNet to names from the paper\n",
    "    ## Need the layers for the content and style representations of an image\n",
    "    if layers is None:\n",
    "        layers = {'0': 'conv1_1',\n",
    "                  '5': 'conv2_1',\n",
    "                  '10': 'conv3_1',\n",
    "                  '19': 'conv4_1',\n",
    "                  '21': 'conv4_2',  ## content representation\n",
    "                  '28': 'conv5_1'}\n",
    "\n",
    "    features = {}\n",
    "    x = image\n",
    "    # model._modules is a dictionary holding each module in the model\n",
    "    for name, layer in model._modules.items():\n",
    "        x = layer(x)\n",
    "        if name in layers:\n",
    "            features[layers[name]] = x\n",
    "\n",
    "    return features"
   ]
  },
  {
   "cell_type": "code",
   "execution_count": null,
   "metadata": {
    "editable": false,
    "execution": {
     "iopub.execute_input": "2023-11-27T17:44:38.132484Z",
     "iopub.status.busy": "2023-11-27T17:44:38.131601Z",
     "iopub.status.idle": "2023-11-27T17:44:38.137841Z",
     "shell.execute_reply": "2023-11-27T17:44:38.136809Z",
     "shell.execute_reply.started": "2023-11-27T17:44:38.13245Z"
    },
    "id": "NPfE6_gVynnX"
   },
   "outputs": [],
   "source": [
    "def gram_matrix(tensor):\n",
    "    \"\"\" Calculate the Gram Matrix of a given tensor\n",
    "        Gram Matrix: https://en.wikipedia.org/wiki/Gramian_matrix\n",
    "    \"\"\"\n",
    "\n",
    "    # get the batch_size, depth, height, and width of the Tensor\n",
    "    _, d, h, w = tensor.size()\n",
    "\n",
    "    # reshape so we're multiplying the features for each channel\n",
    "    tensor = tensor.view(d, h * w)\n",
    "\n",
    "    # calculate the gram matrix\n",
    "    gram = torch.mm(tensor, tensor.t())\n",
    "\n",
    "    return gram"
   ]
  },
  {
   "cell_type": "code",
   "execution_count": null,
   "metadata": {
    "editable": false,
    "execution": {
     "iopub.execute_input": "2023-11-27T17:44:48.85331Z",
     "iopub.status.busy": "2023-11-27T17:44:48.852441Z",
     "iopub.status.idle": "2023-11-27T17:44:54.768089Z",
     "shell.execute_reply": "2023-11-27T17:44:54.767183Z",
     "shell.execute_reply.started": "2023-11-27T17:44:48.853278Z"
    },
    "id": "zek8X7SeyvbA"
   },
   "outputs": [],
   "source": [
    "# get content and style features only once before training\n",
    "content_features = get_features(content, vgg)\n",
    "style_features = get_features(style, vgg)\n",
    "\n",
    "# calculate the gram matrices for each layer of our style representation\n",
    "style_grams = {layer: gram_matrix(style_features[layer]) for layer in style_features}\n",
    "\n",
    "# create a third \"target\" image and prep it for change\n",
    "# it is a good idea to start of with the target as a copy of our *content* image\n",
    "# then iteratively change its style\n",
    "target = content.clone().requires_grad_(True).to(device)"
   ]
  },
  {
   "cell_type": "code",
   "execution_count": null,
   "metadata": {
    "editable": false,
    "execution": {
     "iopub.execute_input": "2023-11-27T17:45:00.419732Z",
     "iopub.status.busy": "2023-11-27T17:45:00.419367Z",
     "iopub.status.idle": "2023-11-27T17:45:00.425031Z",
     "shell.execute_reply": "2023-11-27T17:45:00.424073Z",
     "shell.execute_reply.started": "2023-11-27T17:45:00.419702Z"
    },
    "id": "ppWeluUjyyHu"
   },
   "outputs": [],
   "source": [
    "# weights for each style layer\n",
    "# weighting earlier layers more will result in *larger* style artifacts\n",
    "# notice we are excluding `conv4_2` our content representation\n",
    "style_weights = {'conv1_1': 1.,\n",
    "                 'conv2_1': 0.75,\n",
    "                 'conv3_1': 0.2,\n",
    "                 'conv4_1': 0.2,\n",
    "                 'conv5_1': 0.2}\n",
    "\n",
    "content_weight = 1  # alpha\n",
    "style_weight = 1e9  # beta"
   ]
  },
  {
   "cell_type": "code",
   "execution_count": null,
   "metadata": {
    "editable": false,
    "execution": {
     "iopub.execute_input": "2023-11-27T17:45:14.976663Z",
     "iopub.status.busy": "2023-11-27T17:45:14.976294Z",
     "iopub.status.idle": "2023-11-27T17:47:21.174171Z",
     "shell.execute_reply": "2023-11-27T17:47:21.173257Z",
     "shell.execute_reply.started": "2023-11-27T17:45:14.976632Z"
    },
    "id": "9kcG3mNmy6UE"
   },
   "outputs": [],
   "source": [
    "# for displaying the target image, intermittently\n",
    "show_every = 400\n",
    "\n",
    "# iteration hyperparameters\n",
    "optimizer = optim.Adam([target], lr=0.003)\n",
    "steps = 2000  # decide how many iterations to update your image (5000)\n",
    "\n",
    "for ii in range(1, steps+1):\n",
    "\n",
    "    # get the features from your target image\n",
    "    target_features = get_features(target, vgg)\n",
    "\n",
    "    # the content loss\n",
    "    content_loss = torch.mean((target_features['conv4_2'] - content_features['conv4_2'])**2)\n",
    "\n",
    "    # the style loss\n",
    "    # initialize the style loss to 0\n",
    "    style_loss = 0\n",
    "    # then add to it for each layer's gram matrix loss\n",
    "    for layer in style_weights:\n",
    "        # get the \"target\" style representation for the layer\n",
    "        target_feature = target_features[layer]\n",
    "        target_gram = gram_matrix(target_feature)\n",
    "        _, d, h, w = target_feature.shape\n",
    "        # get the \"style\" style representation\n",
    "        style_gram = style_grams[layer]\n",
    "        # the style loss for one layer, weighted appropriately\n",
    "        layer_style_loss = style_weights[layer] * torch.mean((target_gram - style_gram)**2)\n",
    "        # add to the style loss\n",
    "        style_loss += layer_style_loss / (d * h * w)\n",
    "\n",
    "    # calculate the *total* loss\n",
    "    total_loss = content_weight * content_loss + style_weight * style_loss\n",
    "\n",
    "    # update your target image\n",
    "    optimizer.zero_grad()\n",
    "    total_loss.backward()\n",
    "    optimizer.step()\n",
    "\n",
    "    # display intermediate images and print the loss\n",
    "    if  ii % show_every == 0:\n",
    "        print('Total loss: ', total_loss.item())\n",
    "        plt.imshow(im_convert(target))\n",
    "        plt.show()"
   ]
  },
  {
   "cell_type": "code",
   "execution_count": null,
   "metadata": {
    "editable": false,
    "execution": {
     "iopub.execute_input": "2023-11-27T17:47:21.810127Z",
     "iopub.status.busy": "2023-11-27T17:47:21.809765Z",
     "iopub.status.idle": "2023-11-27T17:47:22.424006Z",
     "shell.execute_reply": "2023-11-27T17:47:22.423013Z",
     "shell.execute_reply.started": "2023-11-27T17:47:21.810096Z"
    },
    "id": "MUVL2OgczAPC"
   },
   "outputs": [],
   "source": [
    "# display content and final, target image\n",
    "fig, (ax1, ax2) = plt.subplots(2, 1, figsize=(15, 15))\n",
    "ax1.imshow(im_convert(content))\n",
    "ax1.set_title(\"Content Image\", fontsize = 20)\n",
    "ax2.imshow(im_convert(target))\n",
    "ax2.set_title(\"Stylized Target Image\", fontsize = 20)\n",
    "ax1.grid(False)\n",
    "ax2.grid(False)\n",
    "# Hide axes ticks\n",
    "ax1.set_xticks([])\n",
    "ax1.set_yticks([])\n",
    "ax2.set_xticks([])\n",
    "ax2.set_yticks([])\n",
    "plt.show()"
   ]
  }
 ],
 "metadata": {
  "accelerator": "GPU",
  "colab": {
   "gpuType": "T4",
   "provenance": []
  },
  "kaggle": {
   "accelerator": "nvidiaTeslaT4",
   "dataSources": [
    {
     "datasetId": 778297,
     "sourceId": 1374205,
     "sourceType": "datasetVersion"
    },
    {
     "sourceId": 7890141,
     "sourceType": "kernelVersion"
    }
   ],
   "dockerImageVersionId": 30587,
   "isGpuEnabled": true,
   "isInternetEnabled": false,
   "language": "python",
   "sourceType": "notebook"
  },
  "kernelspec": {
   "display_name": "Python 3 (ipykernel)",
   "language": "python",
   "name": "python3"
  },
  "language_info": {
   "codemirror_mode": {
    "name": "ipython",
    "version": 3
   },
   "file_extension": ".py",
   "mimetype": "text/x-python",
   "name": "python",
   "nbconvert_exporter": "python",
   "pygments_lexer": "ipython3",
   "version": "3.10.13"
  }
 },
 "nbformat": 4,
 "nbformat_minor": 4
}
